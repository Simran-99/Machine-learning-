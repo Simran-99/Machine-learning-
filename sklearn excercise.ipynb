{
 "cells": [
  {
   "cell_type": "code",
   "execution_count": 4,
   "metadata": {},
   "outputs": [],
   "source": [
    "import numpy as np\n",
    "import pandas as pd\n",
    "import seaborn as sm\n",
    "import matplotlib.pyplot as plt\n",
    "from sklearn.linear_model import LinearRegression"
   ]
  },
  {
   "cell_type": "code",
   "execution_count": 7,
   "metadata": {},
   "outputs": [
    {
     "data": {
      "text/html": [
       "<div>\n",
       "<style scoped>\n",
       "    .dataframe tbody tr th:only-of-type {\n",
       "        vertical-align: middle;\n",
       "    }\n",
       "\n",
       "    .dataframe tbody tr th {\n",
       "        vertical-align: top;\n",
       "    }\n",
       "\n",
       "    .dataframe thead th {\n",
       "        text-align: right;\n",
       "    }\n",
       "</style>\n",
       "<table border=\"1\" class=\"dataframe\">\n",
       "  <thead>\n",
       "    <tr style=\"text-align: right;\">\n",
       "      <th></th>\n",
       "      <th>price</th>\n",
       "      <th>size</th>\n",
       "    </tr>\n",
       "  </thead>\n",
       "  <tbody>\n",
       "    <tr>\n",
       "      <th>0</th>\n",
       "      <td>234314.144</td>\n",
       "      <td>643.09</td>\n",
       "    </tr>\n",
       "    <tr>\n",
       "      <th>1</th>\n",
       "      <td>228581.528</td>\n",
       "      <td>656.22</td>\n",
       "    </tr>\n",
       "    <tr>\n",
       "      <th>2</th>\n",
       "      <td>281626.336</td>\n",
       "      <td>487.29</td>\n",
       "    </tr>\n",
       "    <tr>\n",
       "      <th>3</th>\n",
       "      <td>401255.608</td>\n",
       "      <td>1504.75</td>\n",
       "    </tr>\n",
       "    <tr>\n",
       "      <th>4</th>\n",
       "      <td>458674.256</td>\n",
       "      <td>1275.46</td>\n",
       "    </tr>\n",
       "  </tbody>\n",
       "</table>\n",
       "</div>"
      ],
      "text/plain": [
       "        price     size\n",
       "0  234314.144   643.09\n",
       "1  228581.528   656.22\n",
       "2  281626.336   487.29\n",
       "3  401255.608  1504.75\n",
       "4  458674.256  1275.46"
      ]
     },
     "execution_count": 7,
     "metadata": {},
     "output_type": "execute_result"
    }
   ],
   "source": [
    "data=pd.read_csv('sklearnprice.csv')\n",
    "data.head(5)"
   ]
  },
  {
   "cell_type": "code",
   "execution_count": 8,
   "metadata": {},
   "outputs": [],
   "source": [
    "x=data['price']\n",
    "y=data['size']"
   ]
  },
  {
   "cell_type": "code",
   "execution_count": 10,
   "metadata": {},
   "outputs": [
    {
     "data": {
      "text/plain": [
       "(100,)"
      ]
     },
     "execution_count": 10,
     "metadata": {},
     "output_type": "execute_result"
    }
   ],
   "source": [
    "x.shape"
   ]
  },
  {
   "cell_type": "code",
   "execution_count": 11,
   "metadata": {},
   "outputs": [
    {
     "data": {
      "text/plain": [
       "(100,)"
      ]
     },
     "execution_count": 11,
     "metadata": {},
     "output_type": "execute_result"
    }
   ],
   "source": [
    "y.shape"
   ]
  },
  {
   "cell_type": "code",
   "execution_count": 12,
   "metadata": {},
   "outputs": [],
   "source": [
    "x_matrix=x.values.reshape(100,1)"
   ]
  },
  {
   "cell_type": "code",
   "execution_count": 13,
   "metadata": {},
   "outputs": [
    {
     "data": {
      "text/plain": [
       "array([[234314.144],\n",
       "       [228581.528],\n",
       "       [281626.336],\n",
       "       [401255.608],\n",
       "       [458674.256],\n",
       "       [245050.28 ],\n",
       "       [265129.064],\n",
       "       [175716.48 ],\n",
       "       [331101.344],\n",
       "       [218630.608],\n",
       "       [279555.096],\n",
       "       [494778.992],\n",
       "       [215472.104],\n",
       "       [418753.008],\n",
       "       [444192.008],\n",
       "       [440201.616],\n",
       "       [248337.6  ],\n",
       "       [234178.16 ],\n",
       "       [225451.984],\n",
       "       [299416.976],\n",
       "       [268125.08 ],\n",
       "       [171795.24 ],\n",
       "       [412569.472],\n",
       "       [183459.488],\n",
       "       [168047.264],\n",
       "       [362519.72 ],\n",
       "       [271793.312],\n",
       "       [406852.304],\n",
       "       [297760.44 ],\n",
       "       [368988.432],\n",
       "       [301635.728],\n",
       "       [225452.32 ],\n",
       "       [207742.248],\n",
       "       [191486.896],\n",
       "       [285223.176],\n",
       "       [302000.92 ],\n",
       "       [269225.92 ],\n",
       "       [233493.208],\n",
       "       [292965.216],\n",
       "       [245747.2  ],\n",
       "       [310045.712],\n",
       "       [217468.224],\n",
       "       [287350.   ],\n",
       "       [414682.648],\n",
       "       [293044.496],\n",
       "       [300061.48 ],\n",
       "       [204302.976],\n",
       "       [201778.048],\n",
       "       [257828.416],\n",
       "       [262423.504],\n",
       "       [225656.12 ],\n",
       "       [393069.76 ],\n",
       "       [258637.008],\n",
       "       [269523.056],\n",
       "       [255629.16 ],\n",
       "       [500681.128],\n",
       "       [320345.52 ],\n",
       "       [395242.096],\n",
       "       [330677.128],\n",
       "       [251332.592],\n",
       "       [251188.824],\n",
       "       [263311.696],\n",
       "       [359674.44 ],\n",
       "       [334938.872],\n",
       "       [302393.384],\n",
       "       [304587.272],\n",
       "       [355251.2  ],\n",
       "       [271726.752],\n",
       "       [294582.944],\n",
       "       [454512.76 ],\n",
       "       [276875.632],\n",
       "       [181587.576],\n",
       "       [298926.496],\n",
       "       [211724.096],\n",
       "       [228313.024],\n",
       "       [286161.6  ],\n",
       "       [382120.152],\n",
       "       [365863.936],\n",
       "       [251560.04 ],\n",
       "       [342988.456],\n",
       "       [180307.216],\n",
       "       [408637.816],\n",
       "       [190909.056],\n",
       "       [282683.544],\n",
       "       [303597.216],\n",
       "       [376253.808],\n",
       "       [154282.128],\n",
       "       [327252.112],\n",
       "       [211904.536],\n",
       "       [354512.112],\n",
       "       [251140.656],\n",
       "       [338078.168],\n",
       "       [298170.88 ],\n",
       "       [266684.248],\n",
       "       [262477.856],\n",
       "       [252460.4  ],\n",
       "       [310522.592],\n",
       "       [383635.568],\n",
       "       [225145.248],\n",
       "       [274922.856]])"
      ]
     },
     "execution_count": 13,
     "metadata": {},
     "output_type": "execute_result"
    }
   ],
   "source": [
    "x_matrix"
   ]
  },
  {
   "cell_type": "code",
   "execution_count": 14,
   "metadata": {},
   "outputs": [],
   "source": [
    "reg=LinearRegression()"
   ]
  },
  {
   "cell_type": "code",
   "execution_count": 17,
   "metadata": {},
   "outputs": [
    {
     "data": {
      "text/plain": [
       "LinearRegression(copy_X=True, fit_intercept=True, n_jobs=None, normalize=False)"
      ]
     },
     "execution_count": 17,
     "metadata": {},
     "output_type": "execute_result"
    }
   ],
   "source": [
    "reg.fit(x_matrix,y)"
   ]
  },
  {
   "cell_type": "code",
   "execution_count": 18,
   "metadata": {},
   "outputs": [
    {
     "data": {
      "text/plain": [
       "0.7447391865847586"
      ]
     },
     "execution_count": 18,
     "metadata": {},
     "output_type": "execute_result"
    }
   ],
   "source": [
    "reg.score(x_matrix,y)"
   ]
  },
  {
   "cell_type": "code",
   "execution_count": 19,
   "metadata": {},
   "outputs": [
    {
     "data": {
      "text/plain": [
       "array([0.00333696])"
      ]
     },
     "execution_count": 19,
     "metadata": {},
     "output_type": "execute_result"
    }
   ],
   "source": [
    "reg.coef_"
   ]
  },
  {
   "cell_type": "code",
   "execution_count": 20,
   "metadata": {},
   "outputs": [
    {
     "data": {
      "text/plain": [
       "-122.33492122980181"
      ]
     },
     "execution_count": 20,
     "metadata": {},
     "output_type": "execute_result"
    }
   ],
   "source": [
    "reg.intercept_"
   ]
  },
  {
   "cell_type": "code",
   "execution_count": 21,
   "metadata": {},
   "outputs": [
    {
     "data": {
      "text/plain": [
       "array([-120.73317903])"
      ]
     },
     "execution_count": 21,
     "metadata": {},
     "output_type": "execute_result"
    }
   ],
   "source": [
    "reg.predict([[480]])"
   ]
  },
  {
   "cell_type": "code",
   "execution_count": 24,
   "metadata": {},
   "outputs": [
    {
     "data": {
      "image/png": "[encoded data removed]",
      "text/plain": [
       "<Figure size 432x288 with 1 Axes>"
      ]
     },
     "metadata": {
      "needs_background": "light"
     },
     "output_type": "display_data"
    }
   ],
   "source": [
    "plt.scatter(x,y)\n",
    "yhat=reg.coef_*x_matrix+reg.intercept_\n",
    "fig=plt.plot(x,yhat,lw=4,c='orange',label='regression line')\n",
    "plt.xlabel('size',fontsize=20)\n",
    "plt.ylabel('price',fontsize=20)\n",
    "plt.show()\n"
   ]
  },
  {
   "cell_type": "code",
   "execution_count": null,
   "metadata": {},
   "outputs": [],
   "source": []
  }
 ],
 "metadata": {
  "kernelspec": {
   "display_name": "Python 3",
   "language": "python",
   "name": "python3"
  },
  "language_info": {
   "codemirror_mode": {
    "name": "ipython",
    "version": 3
   },
   "file_extension": ".py",
   "mimetype": "text/x-python",
   "name": "python",
   "nbconvert_exporter": "python",
   "pygments_lexer": "ipython3",
   "version": "3.7.6"
  }
 },
 "nbformat": 4,
 "nbformat_minor": 4
}
